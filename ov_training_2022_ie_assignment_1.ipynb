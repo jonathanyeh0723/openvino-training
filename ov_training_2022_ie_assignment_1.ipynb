{
 "cells": [
  {
   "cell_type": "markdown",
   "metadata": {
    "id": "1tx9noM1Bp8x"
   },
   "source": [
    "# 歡迎來到 **OpenVINO Runtime API(推論引擎)架構與功能介紹** 課程的編程作業!\n",
    "\n",
    "你將通過完成這份作業, 更加熟悉OpenVINO三步驟快速上手流程, 即:\n",
    "- 建置 (Build)\n",
    "- 優化 (Optimize)\n",
    "- 部署 (Deploy)\n",
    "\n",
    "在順利安裝[OpenVINO 2022.1 Dev Tools](https://www.intel.com/content/www/us/en/developer/tools/openvino-toolkit/download.html)\n",
    "後, 你將按照所指示的資訊, 手把手完成建置, 優化, 以及部署的代碼實現.\n",
    "- 下載目標影像和標記資料, 以及模型\n",
    "- 使用[模型優化器](https://docs.openvino.ai/latest/openvino_docs_MO_DG_Deep_Learning_Model_Optimizer_DevGuide.html)將原預訓練模型轉換成[Intermediate Representation (IR)檔案](https://docs.openvino.ai/latest/openvino_docs_MO_DG_IR_and_opsets.html?highlight=intermediate%20representation)\n",
    "- 利用[OpenVINO Runtime API(推論引擎)](https://docs.openvino.ai/latest/openvino_docs_OV_UG_OV_Runtime_User_Guide.html)做實際的推論與部署"
   ]
  },
  {
   "cell_type": "markdown",
   "metadata": {
    "id": "KXmtWoNrBw9A"
   },
   "source": [
    "### Import所需要的函示庫"
   ]
  },
  {
   "cell_type": "code",
   "execution_count": null,
   "metadata": {
    "id": "R36arQkyWVbi"
   },
   "outputs": [],
   "source": [
    "import cv2\n",
    "import os\n",
    "import io\n",
    "import PIL\n",
    "import requests\n",
    "import numpy as np\n",
    "import matplotlib.pyplot as plt\n",
    "from openvino.preprocess import PrePostProcessor, ResizeAlgorithm\n",
    "from openvino.runtime import Core, Layout, Type\n",
    "from urllib.request import urlopen"
   ]
  },
  {
   "cell_type": "markdown",
   "metadata": {
    "id": "HZzi4BbDCgNb"
   },
   "source": [
    "## 1.建置\n"
   ]
  },
  {
   "cell_type": "markdown",
   "metadata": {
    "id": "4pe8ti35Rr2r"
   },
   "source": [
    "### 1.1讀取推論目標影像(一張跑車的照片), 並且將它顯示出來做確認"
   ]
  },
  {
   "cell_type": "code",
   "execution_count": null,
   "metadata": {
    "id": "BeGkbLoBWkfz"
   },
   "outputs": [],
   "source": [
    "response = requests.get('https://drive.google.com/u/0/uc?id=1bINVmgR5Txrg7qvFIo5wm2UWUjRp0rBv&export=download')\n",
    "image_bytes = io.BytesIO(response.content)\n",
    "\n",
    "img = PIL.Image.open(image_bytes)\n",
    "plt.imshow(img)"
   ]
  },
  {
   "cell_type": "markdown",
   "metadata": {
    "id": "LDmbp1ucPdB5"
   },
   "source": [
    "### 1.2下載標記資料 (squeezenet1.1 label), 並且將前五個項目印出來做確認"
   ]
  },
  {
   "cell_type": "code",
   "execution_count": null,
   "metadata": {
    "id": "5iCMyxq488Aj"
   },
   "outputs": [],
   "source": [
    "squeezenetlabel_url = 'https://drive.google.com/u/0/uc?id=1HXV2CPQw5yfJipBBWd0PJNXvmauX_hoI&export=download'\n",
    "html = []\n",
    "\n",
    "try:\n",
    "    with urlopen(squeezenetlabel_url) as response:\n",
    "        for line in response:\n",
    "            html.append(line)\n",
    "except HTTPError as e:\n",
    "    print('The server couldn\\'t fulfill the request.')\n",
    "    print('Error code: ', e.code)\n",
    "except URLError as e:\n",
    "    print('We failed to reach a server.')\n",
    "    print('Reason: ', e.reason)\n",
    "\n",
    "labels = []\n",
    "for i in html:\n",
    "    i = str(i)\n",
    "    i = i.replace('b', '').replace('\\\\r', '').replace('\\\\n', '')\n",
    "    labels.append(i)\n",
    "    \n",
    "labels[:5]"
   ]
  },
  {
   "cell_type": "markdown",
   "metadata": {
    "id": "mGk8Xu3gD4HC"
   },
   "source": [
    "### 1.3利用OpenVINO的工具 - [Model Downloader](https://docs.openvino.ai/latest/omz_tools_downloader.html), 去下載[mobilenet-v2-pytorch](https://docs.openvino.ai/nightly/omz_models_model_mobilenet_v2_pytorch.html)這個公開的預訓練模型\n",
    "\n",
    "你將使用`omz_downloader`, openvino-dev tools的命令列指令, 從在線資源下載模型"
   ]
  },
  {
   "cell_type": "code",
   "execution_count": null,
   "metadata": {
    "id": "Sd_QA9KxaP19"
   },
   "outputs": [],
   "source": [
    "base_model_dir = \"model\"\n",
    "\n",
    "model_name = \"mobilenet-v2-pytorch\"\n",
    "\n",
    "download_cmd = f\"omz_downloader \" \\\n",
    "               f\"--name {model_name} \" \\\n",
    "               f\"--output_dir {base_model_dir} \" \\\n",
    "               f\"--cache_dir {base_model_dir}\"\n",
    "\n",
    "!$download_cmd"
   ]
  },
  {
   "cell_type": "markdown",
   "metadata": {
    "id": "kFvRzhMoD5TI"
   },
   "source": [
    "## 2.優化"
   ]
  },
  {
   "cell_type": "markdown",
   "metadata": {
    "id": "76YWPFnaPArM"
   },
   "source": [
    "## 利用OpenVINO的工具 - [Model Converter](https://docs.openvino.ai/latest/omz_tools_downloader.html), 去轉換下載的mobilenet-v2-pytorch模型成IR格式的檔案\n",
    "\n",
    "你將使用`omz_converter`, openvino-dev tools的命令列指令, 用模型優化器將不是OpenVINO IR 格式的模型轉換為該格式"
   ]
  },
  {
   "cell_type": "code",
   "execution_count": null,
   "metadata": {
    "id": "5eFAP5CpeMZ-"
   },
   "outputs": [],
   "source": [
    "precision = \"FP16\"\n",
    "\n",
    "converted_model_path = f\"model/public/{model_name}/{precision}/{model_name}.xml\"\n",
    "\n",
    "covert_cmd = f\"omz_converter \" \\\n",
    "             f\"--name {model_name} \" \\\n",
    "             f\"--download_dir {base_model_dir} \" \\\n",
    "             f\"--precisions {precision}\"\n",
    "\n",
    "if not os.path.exists(converted_model_path):\n",
    "    !$convert_cmd"
   ]
  },
  {
   "cell_type": "markdown",
   "metadata": {
    "id": "a4CpZjJhD6UQ"
   },
   "source": [
    "## 3.部署"
   ]
  },
  {
   "cell_type": "markdown",
   "metadata": {
    "id": "putq8auJWThs"
   },
   "source": [
    "### 3.1 **[需要完成]** 建立Core物件 (提示, 參考[Inference Pipeline](https://docs.openvino.ai/2022.1/openvino_2_0_inference_pipeline.html)-1: Create Core)"
   ]
  },
  {
   "cell_type": "code",
   "execution_count": null,
   "metadata": {
    "id": "mslAKpbqWvdS"
   },
   "outputs": [],
   "source": [
    "### your code here ###\n"
   ]
  },
  {
   "cell_type": "markdown",
   "metadata": {
    "id": "3CRft_y6Wxgp"
   },
   "source": [
    "### 3.2 **[需要完成]** 讀取模型 (提示, 參考[Inference Pipeline](https://docs.openvino.ai/2022.1/openvino_2_0_inference_pipeline.html)-2: Read a model from a drive¶)"
   ]
  },
  {
   "cell_type": "code",
   "execution_count": null,
   "metadata": {},
   "outputs": [],
   "source": [
    "### your code here ###\n"
   ]
  },
  {
   "cell_type": "markdown",
   "metadata": {
    "id": "ArtSDkudD7Bl"
   },
   "source": [
    "### 3.3 利用[Preprocessing API](https://docs.openvino.ai/latest/openvino_docs_OV_UG_Preprocessing_Details.html)做資料前處理"
   ]
  },
  {
   "cell_type": "code",
   "execution_count": null,
   "metadata": {
    "id": "cAJmP7MPuZ6P"
   },
   "outputs": [],
   "source": [
    "image = cv2.imread('car.png')\n",
    "input_tensor = np.expand_dims(image, 0)\n",
    "\n",
    "ppp = PrePostProcessor(model)\n",
    "_, h, w, _ = input_tensor.shape\n",
    "(ppp.input().tensor().set_element_type(Type.u8).set_layout(\n",
    "    Layout('NHWC')).set_spatial_static_shape(h, w))\n",
    "ppp.input().preprocess().resize(ResizeAlgorithm.RESIZE_LINEAR)\n",
    "ppp.input().model().set_layout(Layout('NCHW'))\n",
    "ppp.output().tensor().set_element_type(Type.f32)\n",
    "model = ppp.build()"
   ]
  },
  {
   "cell_type": "markdown",
   "metadata": {
    "id": "XZRSwjGAD78o"
   },
   "source": [
    "### 3.4 **[需要完成]** 加載模型至所選擇的推論裝置 (提示, 參考[Inference Pipeline](https://docs.openvino.ai/2022.1/openvino_2_0_inference_pipeline.html)-3. Load the Model to the Device¶)"
   ]
  },
  {
   "cell_type": "code",
   "execution_count": null,
   "metadata": {
    "id": "pJp9jl6_YUWq"
   },
   "outputs": [],
   "source": [
    "### your code here ###\n"
   ]
  },
  {
   "cell_type": "markdown",
   "metadata": {
    "id": "GwxGEug4Y2nq"
   },
   "source": [
    "### 3.5 **[需要完成]** 建立推論請求, 然後執行推論 (提示, 參考[Inference Pipeline](https://docs.openvino.ai/2022.1/openvino_2_0_inference_pipeline.html)-4. Create an Inference Request, 5. Fill input tensors, 6. Start Inference¶)"
   ]
  },
  {
   "cell_type": "code",
   "execution_count": null,
   "metadata": {
    "id": "d3pHdsilubYX"
   },
   "outputs": [],
   "source": [
    "### your code here ###\n"
   ]
  },
  {
   "cell_type": "markdown",
   "metadata": {
    "id": "JwpXdBBAD8gh"
   },
   "source": [
    "### 3.6 處理推論結果"
   ]
  },
  {
   "cell_type": "code",
   "execution_count": null,
   "metadata": {
    "id": "iw7VGQ4-uqmp"
   },
   "outputs": [],
   "source": [
    "probs = next(iter(results.values()))\n",
    "idx = np.argsort(probs[0])[::-1]\n",
    "for i in range(5):\n",
    "    print(idx[i], round(probs[0][idx[i]], 2), labels[idx[i]])"
   ]
  },
  {
   "cell_type": "code",
   "execution_count": null,
   "metadata": {
    "id": "e74Daw6saV2J"
   },
   "outputs": [],
   "source": []
  }
 ],
 "metadata": {
  "colab": {
   "collapsed_sections": [],
   "name": "ov-training-2022-ie-assignment-1.ipynb",
   "provenance": []
  },
  "kernelspec": {
   "display_name": "Python 3 (ipykernel)",
   "language": "python",
   "name": "python3"
  },
  "language_info": {
   "codemirror_mode": {
    "name": "ipython",
    "version": 3
   },
   "file_extension": ".py",
   "mimetype": "text/x-python",
   "name": "python",
   "nbconvert_exporter": "python",
   "pygments_lexer": "ipython3",
   "version": "3.8.12"
  }
 },
 "nbformat": 4,
 "nbformat_minor": 1
}
