{
  "nbformat": 4,
  "nbformat_minor": 0,
  "metadata": {
    "colab": {
      "name": "ov-training-2022-ie-assignment-1.ipynb",
      "provenance": [],
      "collapsed_sections": []
    },
    "kernelspec": {
      "name": "python3",
      "display_name": "Python 3"
    },
    "language_info": {
      "name": "python"
    }
  },
  "cells": [
    {
      "cell_type": "markdown",
      "source": [
        "# 歡迎來到 **OpenVINO Runtime API(推論引擎)架構與功能介紹** 課程的編程作業!\n",
        "\n",
        "你將通過完成這份作業, 更加熟悉OpenVINO三步驟快速上手流程, 即:\n",
        "- 建置 (Build)\n",
        "- 優化 (Optimize)\n",
        "- 部署 (Deploy)\n",
        "\n",
        "首先, 你將在Google Colaboratory (Colab)的環境下安裝[OpenVINO 2022.1 Dev Tools](https://www.intel.com/content/www/us/en/developer/tools/openvino-toolkit/download.html)\n",
        "\n",
        "接著, 按照所指示的資訊, 你將手把手完成建置, 優化, 以及部署的代碼實現.\n",
        "- 下載目標影像和標記資料, 以及模型\n",
        "- 使用[模型優化器](https://docs.openvino.ai/latest/openvino_docs_MO_DG_Deep_Learning_Model_Optimizer_DevGuide.html)將原預訓練模型轉換成[Intermediate Representation (IR)檔案](https://docs.openvino.ai/latest/openvino_docs_MO_DG_IR_and_opsets.html?highlight=intermediate%20representation)\n",
        "- 利用[OpenVINO Runtime API(推論引擎)](https://docs.openvino.ai/latest/openvino_docs_OV_UG_OV_Runtime_User_Guide.html)做實際的推論與部署"
      ],
      "metadata": {
        "id": "1tx9noM1Bp8x"
      }
    },
    {
      "cell_type": "markdown",
      "source": [
        "## 0. 前置處理 - 安裝OpenVINO 2022.1 Dev Tools"
      ],
      "metadata": {
        "id": "MCdoGNLLOpjt"
      }
    },
    {
      "cell_type": "code",
      "source": [
        "!pip install openvino-dev==2022.1.0\n",
        "!pip install onnx==1.11.0"
      ],
      "metadata": {
        "id": "mLT1z4oVBlqG"
      },
      "execution_count": null,
      "outputs": []
    },
    {
      "cell_type": "markdown",
      "source": [
        "### Import所需要的函示庫"
      ],
      "metadata": {
        "id": "KXmtWoNrBw9A"
      }
    },
    {
      "cell_type": "code",
      "source": [
        "import cv2\n",
        "import os\n",
        "import numpy as np\n",
        "from openvino.preprocess import PrePostProcessor, ResizeAlgorithm\n",
        "from openvino.runtime import Core, Layout, Type\n",
        "import matplotlib.pyplot as plt\n",
        "import matplotlib.image as mpimg"
      ],
      "metadata": {
        "id": "R36arQkyWVbi"
      },
      "execution_count": null,
      "outputs": []
    },
    {
      "cell_type": "markdown",
      "source": [
        "## 1.建置\n"
      ],
      "metadata": {
        "id": "HZzi4BbDCgNb"
      }
    },
    {
      "cell_type": "markdown",
      "source": [
        "### 1.1下載推論目標影像(一張跑車的照片), 並且將它顯示出來做確認"
      ],
      "metadata": {
        "id": "4pe8ti35Rr2r"
      }
    },
    {
      "cell_type": "code",
      "source": [
        "!wget --no-check-certificate 'https://drive.google.com/u/0/uc?id=1bINVmgR5Txrg7qvFIo5wm2UWUjRp0rBv&export=download' -O 'car.png'\n",
        "\n",
        "car = mpimg.imread('car.png')\n",
        "\n",
        "plt.imshow(car)"
      ],
      "metadata": {
        "id": "BeGkbLoBWkfz"
      },
      "execution_count": null,
      "outputs": []
    },
    {
      "cell_type": "markdown",
      "source": [
        "### 1.2下載標記資料 (squeezenet1.1 label), 並且將前五個項目印出來做確認"
      ],
      "metadata": {
        "id": "LDmbp1ucPdB5"
      }
    },
    {
      "cell_type": "code",
      "source": [
        "!wget --no-check-certificate 'https://drive.google.com/u/0/uc?id=1HXV2CPQw5yfJipBBWd0PJNXvmauX_hoI&export=download' -O 'label.txt'\n",
        "\n",
        "with open('label.txt', 'r') as f:\n",
        "  label = f.read()\n",
        "\n",
        "label = label.split('\\n')\n",
        "\n",
        "label[:5]"
      ],
      "metadata": {
        "id": "5iCMyxq488Aj"
      },
      "execution_count": null,
      "outputs": []
    },
    {
      "cell_type": "markdown",
      "source": [
        "### 1.3利用OpenVINO的工具 - [Model Downloader](https://docs.openvino.ai/latest/omz_tools_downloader.html), 去下載[mobilenet-v2-pytorch](https://docs.openvino.ai/nightly/omz_models_model_mobilenet_v2_pytorch.html)這個公開的預訓練模型\n",
        "\n",
        "你將使用`omz_downloader`, openvino-dev tools的命令列指令, 從在線資源下載模型"
      ],
      "metadata": {
        "id": "mGk8Xu3gD4HC"
      }
    },
    {
      "cell_type": "code",
      "source": [
        "base_model_dir = \"model\"\n",
        "\n",
        "model_name = \"mobilenet-v2-pytorch\"\n",
        "\n",
        "download_cmd = f\"omz_downloader \" \\\n",
        "               f\"--name {model_name} \" \\\n",
        "               f\"--output_dir {base_model_dir} \" \\\n",
        "               f\"--cache_dir {base_model_dir}\"\n",
        "\n",
        "!$download_cmd"
      ],
      "metadata": {
        "id": "Sd_QA9KxaP19"
      },
      "execution_count": null,
      "outputs": []
    },
    {
      "cell_type": "markdown",
      "source": [
        "## 2.優化"
      ],
      "metadata": {
        "id": "kFvRzhMoD5TI"
      }
    },
    {
      "cell_type": "markdown",
      "source": [
        "## 利用OpenVINO的工具 - [Model Converter](https://docs.openvino.ai/latest/omz_tools_downloader.html), 去轉換下載的mobilenet-v2-pytorch模型成IR格式的檔案\n",
        "\n",
        "你將使用`omz_converter`, openvino-dev tools的命令列指令, 用模型優化器將不是OpenVINO IR 格式的模型轉換為該格式"
      ],
      "metadata": {
        "id": "76YWPFnaPArM"
      }
    },
    {
      "cell_type": "code",
      "source": [
        "precision = \"FP16\"\n",
        "\n",
        "converted_model_path = f\"model/public/{model_name}/{precision}/{model_name}.xml\"\n",
        "\n",
        "if not os.path.exists(converted_model_path):\n",
        "    covert_cmd = f\"omz_converter \" \\\n",
        "                 f\"--name {model_name} \" \\\n",
        "                 f\"--download_dir {base_model_dir} \" \\\n",
        "                 f\"--precisions {precision}\"\n",
        "!$covert_cmd"
      ],
      "metadata": {
        "id": "5eFAP5CpeMZ-"
      },
      "execution_count": null,
      "outputs": []
    },
    {
      "cell_type": "markdown",
      "source": [
        "## 3.部署"
      ],
      "metadata": {
        "id": "a4CpZjJhD6UQ"
      }
    },
    {
      "cell_type": "markdown",
      "source": [
        "### 3.1 **[需要完成]** 建立Core物件 (提示, 參考[Inference Pipeline](https://docs.openvino.ai/2022.1/openvino_2_0_inference_pipeline.html)-1: Create Core)"
      ],
      "metadata": {
        "id": "putq8auJWThs"
      }
    },
    {
      "cell_type": "code",
      "source": [
        "### your code here ###\n"
      ],
      "metadata": {
        "id": "mslAKpbqWvdS"
      },
      "execution_count": null,
      "outputs": []
    },
    {
      "cell_type": "markdown",
      "source": [
        "### 3.2 **[需要完成]** 讀取模型 (提示, 參考[Inference Pipeline](https://docs.openvino.ai/2022.1/openvino_2_0_inference_pipeline.html)-2: Read a model from a drive¶)"
      ],
      "metadata": {
        "id": "3CRft_y6Wxgp"
      }
    },
    {
      "cell_type": "code",
      "source": [
        "### your code here ###\n"
      ],
      "metadata": {
        "id": "JX1zuZ65XA0x"
      },
      "execution_count": null,
      "outputs": []
    },
    {
      "cell_type": "markdown",
      "source": [
        "### 3.3 利用[Preprocessing API](https://docs.openvino.ai/latest/openvino_docs_OV_UG_Preprocessing_Details.html)做資料前處理"
      ],
      "metadata": {
        "id": "ArtSDkudD7Bl"
      }
    },
    {
      "cell_type": "code",
      "source": [
        "image = cv2.imread('car.png')\n",
        "input_tensor = np.expand_dims(image, 0)\n",
        "\n",
        "ppp = PrePostProcessor(model)\n",
        "_, h, w, _ = input_tensor.shape\n",
        "(ppp.input().tensor().set_element_type(Type.u8).set_layout(\n",
        "    Layout('NHWC')).set_spatial_static_shape(h, w))\n",
        "ppp.input().preprocess().resize(ResizeAlgorithm.RESIZE_LINEAR)\n",
        "ppp.input().model().set_layout(Layout('NCHW'))\n",
        "ppp.output().tensor().set_element_type(Type.f32)\n",
        "model = ppp.build()"
      ],
      "metadata": {
        "id": "cAJmP7MPuZ6P"
      },
      "execution_count": null,
      "outputs": []
    },
    {
      "cell_type": "markdown",
      "source": [
        "### 3.4 **[需要完成]** 加載模型至所選擇的推論裝置 (提示, 參考[Inference Pipeline](https://docs.openvino.ai/2022.1/openvino_2_0_inference_pipeline.html)-3. Load the Model to the Device¶)"
      ],
      "metadata": {
        "id": "XZRSwjGAD78o"
      }
    },
    {
      "cell_type": "code",
      "source": [
        "### your code here ###\n"
      ],
      "metadata": {
        "id": "pJp9jl6_YUWq"
      },
      "execution_count": null,
      "outputs": []
    },
    {
      "cell_type": "markdown",
      "source": [
        "### 3.5 **[需要完成]** 建立推論請求, 然後執行推論 (提示, 參考[Inference Pipeline](https://docs.openvino.ai/2022.1/openvino_2_0_inference_pipeline.html)-4. Create an Inference Request, 5. Fill input tensors, 6. Start Inference¶)"
      ],
      "metadata": {
        "id": "GwxGEug4Y2nq"
      }
    },
    {
      "cell_type": "code",
      "source": [
        "### your code here ###\n",
        "\n"
      ],
      "metadata": {
        "id": "d3pHdsilubYX"
      },
      "execution_count": null,
      "outputs": []
    },
    {
      "cell_type": "markdown",
      "source": [
        "### 3.6 處理推論結果"
      ],
      "metadata": {
        "id": "JwpXdBBAD8gh"
      }
    },
    {
      "cell_type": "code",
      "source": [
        "probs = next(iter(results.values()))\n",
        "idx = np.argsort(probs[0])[::-1]\n",
        "for i in range(5):\n",
        "    print(idx[i], round(probs[0][idx[i]], 2), label[idx[i]])"
      ],
      "metadata": {
        "id": "iw7VGQ4-uqmp"
      },
      "execution_count": null,
      "outputs": []
    },
    {
      "cell_type": "markdown",
      "source": [
        "## 請將推論結果儲存, 並返回課程列, 找到可供你上傳assignment-1進行評分的部分. 祝你好運！"
      ],
      "metadata": {
        "id": "5xuEbbn4VSQu"
      }
    },
    {
      "cell_type": "code",
      "source": [
        ""
      ],
      "metadata": {
        "id": "e74Daw6saV2J"
      },
      "execution_count": null,
      "outputs": []
    }
  ]
}