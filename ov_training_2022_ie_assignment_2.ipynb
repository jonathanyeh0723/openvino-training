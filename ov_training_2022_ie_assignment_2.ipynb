{
 "cells": [
  {
   "attachments": {},
   "cell_type": "markdown",
   "id": "47badf84",
   "metadata": {},
   "source": [
    "# 歡迎來到 **使用 OpenVINO Runtime API (推論引擎)\u000b",
    "建立影像辨識與物件偵測應用程式!** 課程的編程作業!\n",
    "\n",
    "你將透過使用OpenVINO 建置, 優化, 部署的步驟打造一個人的物件偵測app<br>\n",
    "推論結果如下圖所展示"
   ]
  },
  {
   "cell_type": "markdown",
   "id": "d96c1394",
   "metadata": {},
   "source": [
    "![\"intel_ceo_pat\"](https://i.imgur.com/oYpAN0E.png)"
   ]
  },
  {
   "cell_type": "markdown",
   "id": "b4dfe5c9",
   "metadata": {},
   "source": [
    "### Import所需要的函示庫"
   ]
  },
  {
   "cell_type": "code",
   "execution_count": null,
   "id": "c1da1f1d",
   "metadata": {},
   "outputs": [],
   "source": [
    "from openvino.runtime import Core\n",
    "import matplotlib.pyplot as plt\n",
    "import numpy as np\n",
    "import cv2"
   ]
  },
  {
   "cell_type": "markdown",
   "id": "97c70a81",
   "metadata": {},
   "source": [
    "## 讀取原始影像"
   ]
  },
  {
   "cell_type": "code",
   "execution_count": null,
   "id": "b16e15e2",
   "metadata": {},
   "outputs": [],
   "source": [
    "image_path = \n",
    "\n",
    "original_image = cv2.imread(image_path)\n",
    "original_image = cv2.cvtColor(original_image, cv2.COLOR_BGR2RGB)\n",
    "plt.imshow(original_image)\n",
    "plt.axis(\"Off\")\n",
    "plt.show()"
   ]
  },
  {
   "cell_type": "markdown",
   "id": "fccd12af",
   "metadata": {},
   "source": [
    "## 下載模型 - [person-detection](https://docs.openvino.ai/latest/omz_models_model_person_detection_retail_0013.html)"
   ]
  },
  {
   "cell_type": "code",
   "execution_count": null,
   "id": "8a5b4fed",
   "metadata": {},
   "outputs": [],
   "source": [
    "model_name = \n",
    "precisions = \"FP16\"\n",
    "model_dir = \"model\"\n",
    "\n",
    "download_model_cmd = f\"omz_downloader \" \\\n",
    "                     f\"--name {model_name} \" \\\n",
    "                     f\"--precisions {precisions} \" \\\n",
    "                     f\"--output_dir {model_dir} \" \\\n",
    "                     f\"--cache_dir {model_dir}\"\n",
    "\n",
    "! $download_model_cmd"
   ]
  },
  {
   "cell_type": "markdown",
   "id": "d29853ea",
   "metadata": {},
   "source": [
    "## 建立Core, 讀取模型, 加載裝置"
   ]
  },
  {
   "cell_type": "code",
   "execution_count": null,
   "id": "8097f6e4",
   "metadata": {},
   "outputs": [],
   "source": [
    "model_path = f\"model/intel/{model_name}/{precisions}/{model_name}.xml\"\n",
    "\n",
    "core = \n",
    "model = \n",
    "compiled_model = \n",
    "\n",
    "input_layer = \n",
    "n, c, h, w = "
   ]
  },
  {
   "cell_type": "markdown",
   "id": "146039d2",
   "metadata": {},
   "source": [
    "## 讀取影像, 影像前處理"
   ]
  },
  {
   "cell_type": "code",
   "execution_count": null,
   "id": "a730727b",
   "metadata": {},
   "outputs": [],
   "source": [
    "img = cv2.imread(image_path)\n",
    "img_h, img_w, img_c = \n",
    "resized = \n",
    "transposed = \n",
    "input_tensor = "
   ]
  },
  {
   "cell_type": "markdown",
   "id": "51a858df",
   "metadata": {},
   "source": [
    "## 建立推論請求, 執行推論"
   ]
  },
  {
   "cell_type": "code",
   "execution_count": null,
   "id": "d5cda50e",
   "metadata": {},
   "outputs": [],
   "source": [
    "infer_request = \n",
    "results = "
   ]
  },
  {
   "cell_type": "markdown",
   "id": "df6cd470",
   "metadata": {},
   "source": [
    "## 對推論結果做影像後處理"
   ]
  },
  {
   "cell_type": "code",
   "execution_count": null,
   "id": "afdbc17b",
   "metadata": {},
   "outputs": [],
   "source": [
    "for res in results.values():\n",
    "    for obj in res[0][0]:\n",
    "        conf = obj[2]\n",
    "        if conf >= 0.08:\n",
    "            xmin = int(obj[3] * img_w)\n",
    "            ymin = int(obj[4] * img_h)\n",
    "            xmax = int(obj[5] * img_w)\n",
    "            ymax = int(obj[6] * img_h)\n",
    "            \n",
    "            drew_image = cv2.rectangle(img, (xmin, ymin), (xmax, ymax), (0, 255, 0), 3)"
   ]
  },
  {
   "cell_type": "markdown",
   "id": "a39575b5",
   "metadata": {},
   "source": [
    "## 顯示推論結果"
   ]
  },
  {
   "cell_type": "code",
   "execution_count": null,
   "id": "b33f127b",
   "metadata": {},
   "outputs": [],
   "source": [
    "drew_image = cv2.cvtColor(drew_image, cv2.COLOR_BGR2RGB)\n",
    "plt.imshow(drew_image)\n",
    "plt.axis(\"Off\")\n",
    "plt.show()"
   ]
  },
  {
   "cell_type": "code",
   "execution_count": null,
   "id": "b6c49715",
   "metadata": {},
   "outputs": [],
   "source": []
  }
 ],
 "metadata": {
  "kernelspec": {
   "display_name": "Python 3 (ipykernel)",
   "language": "python",
   "name": "python3"
  },
  "language_info": {
   "codemirror_mode": {
    "name": "ipython",
    "version": 3
   },
   "file_extension": ".py",
   "mimetype": "text/x-python",
   "name": "python",
   "nbconvert_exporter": "python",
   "pygments_lexer": "ipython3",
   "version": "3.8.12"
  }
 },
 "nbformat": 4,
 "nbformat_minor": 5
}
