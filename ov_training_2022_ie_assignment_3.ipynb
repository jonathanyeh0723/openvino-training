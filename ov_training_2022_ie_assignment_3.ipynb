{
 "cells": [
  {
   "attachments": {},
   "cell_type": "markdown",
   "id": "9604082b",
   "metadata": {},
   "source": [
    "# 歡迎來到 **使用 benchmark app 觀察深度學習模型效能與初探\u000b",
    "OpenVINO Runtime API(推論引擎)效能增強工具** 課程的編程作業!\n",
    "\n",
    "你將通過完成這份作業, 更加熟悉[OpenVINO Benchmark Python* Tool](https://docs.openvino.ai/latest/openvino_inference_engine_tools_benchmark_tool_README.html)\n",
    "\n",
    "來溫習一下benchmark app吧, 它能夠協助你\n",
    "- 觀察深度學習模型效能\n",
    "- 它是 OpenVINO 的通用基準測試工具, 可以運行任何模型\n",
    "- 不需要考慮輸入和輸出binary large object, 簡單容易使用\n",
    "- 測試的時候不需要輸入數據, 只需要input model和inference device即可, 非常智能\n",
    "- 能夠自動為平台選用最佳的參數, 方便, 支持許多optional parameters"
   ]
  },
  {
   "cell_type": "markdown",
   "id": "36ba1a34",
   "metadata": {},
   "source": [
    "執行如下cell參考指令用法"
   ]
  },
  {
   "cell_type": "code",
   "execution_count": null,
   "id": "7978424b",
   "metadata": {},
   "outputs": [],
   "source": [
    "!benchmark_app --help"
   ]
  },
  {
   "cell_type": "markdown",
   "id": "60a663c9",
   "metadata": {},
   "source": [
    "## 任務一: 使用benchmark app, 評估 Intel's Pre-Trained Model [human-pose-estimation-0001](https://docs.openvino.ai/latest/omz_models_model_human_pose_estimation_0001.html) 在CPU上的效能\n",
    "![\"Human Pose Estimation\"](https://docs.openvino.ai/latest/_images/human-pose-estimation-0001.png)"
   ]
  },
  {
   "cell_type": "markdown",
   "id": "c15854ce",
   "metadata": {},
   "source": [
    "### 下載模型"
   ]
  },
  {
   "cell_type": "code",
   "execution_count": null,
   "id": "f7b06724",
   "metadata": {},
   "outputs": [],
   "source": []
  },
  {
   "cell_type": "markdown",
   "id": "fa02c4c5",
   "metadata": {},
   "source": [
    "### 執行benchmark 測試 for 模型 human-pose-estimation-0001"
   ]
  },
  {
   "cell_type": "code",
   "execution_count": null,
   "id": "bad60ff4",
   "metadata": {},
   "outputs": [],
   "source": []
  },
  {
   "cell_type": "code",
   "execution_count": null,
   "id": "4d57b50e",
   "metadata": {},
   "outputs": [],
   "source": [
    "########### 參考輸出結果 ###########\n",
    "# Count:          996 iterations\n",
    "# Duration:       60351.21 ms\n",
    "# Latency:\n",
    "#    Median:     245.30 ms\n",
    "#    AVG:        242.09 ms\n",
    "#    MIN:        185.44 ms\n",
    "#    MAX:        332.81 ms\n",
    "# Throughput: 16.50 FPS"
   ]
  },
  {
   "cell_type": "markdown",
   "id": "5368daa2",
   "metadata": {},
   "source": [
    "## 任務二: 使用benchmark app, 評估 Public Pre-Trained Model [yolo-v3-tf](https://docs.openvino.ai/latest/omz_models_model_yolo_v3_tf.html) 在CPU上的效能\n",
    "\n",
    "![\"smart_city_yolo-v3\"](https://i.imgur.com/W4VfRSB.jpg)"
   ]
  },
  {
   "cell_type": "markdown",
   "id": "be50b1fb",
   "metadata": {},
   "source": [
    "### 下載模型"
   ]
  },
  {
   "cell_type": "code",
   "execution_count": null,
   "id": "8807a09e",
   "metadata": {},
   "outputs": [],
   "source": []
  },
  {
   "cell_type": "markdown",
   "id": "13014387",
   "metadata": {},
   "source": [
    "### 轉換模型成IR檔"
   ]
  },
  {
   "cell_type": "code",
   "execution_count": null,
   "id": "6c740c64",
   "metadata": {},
   "outputs": [],
   "source": [
    "!omz_converter --name \"yolo-v3-tf\" --download_dir \"model\" --precisions \"FP16\""
   ]
  },
  {
   "cell_type": "markdown",
   "id": "e5ecd423",
   "metadata": {},
   "source": [
    "### 執行測試"
   ]
  },
  {
   "cell_type": "code",
   "execution_count": null,
   "id": "8f03c192",
   "metadata": {},
   "outputs": [],
   "source": []
  },
  {
   "cell_type": "code",
   "execution_count": null,
   "id": "76c8532c",
   "metadata": {},
   "outputs": [],
   "source": [
    "########### 參考輸出結果 ###########\n",
    "# Count:          1336 iterations\n",
    "# Duration:       121006.81 ms\n",
    "# Latency:\n",
    "#   Median:     671.10 ms\n",
    "#   AVG:        722.62 ms\n",
    "#   MIN:        117.08 ms\n",
    "#   MAX:        5508.58 ms\n",
    "# Throughput: 11.04 FPS"
   ]
  },
  {
   "cell_type": "code",
   "execution_count": null,
   "id": "54020810",
   "metadata": {},
   "outputs": [],
   "source": []
  }
 ],
 "metadata": {
  "kernelspec": {
   "display_name": "Python 3 (ipykernel)",
   "language": "python",
   "name": "python3"
  },
  "language_info": {
   "codemirror_mode": {
    "name": "ipython",
    "version": 3
   },
   "file_extension": ".py",
   "mimetype": "text/x-python",
   "name": "python",
   "nbconvert_exporter": "python",
   "pygments_lexer": "ipython3",
   "version": "3.8.12"
  }
 },
 "nbformat": 4,
 "nbformat_minor": 5
}
